{
 "cells": [
  {
   "attachments": {},
   "cell_type": "markdown",
   "metadata": {},
   "source": [
    "# <center>Python OOP Tutorials</center>\n",
    "\n",
    "#### Introduction to classes <hr>\n",
    "\n",
    "<p>A class, functions as a template that deﬁnes the basic characteristics of a particular object.</p>"
   ]
  },
  {
   "cell_type": "code",
   "execution_count": 1,
   "metadata": {},
   "outputs": [],
   "source": [
    "class Person(object):\n",
    "    \"\"\"A simple class.\"\"\"               # docstring\n",
    "    species = \"Homo Sapiens\"            # class attribute\n",
    "\n",
    "    def __init__(self, name):           # special method\n",
    "        \"\"\"This is the initializer.\n",
    "        It's a special method.\"\"\"\n",
    "\n",
    "        self.name = name                # instance attribute\n",
    "\n",
    "    def __str__(self) -> str:           # special method\n",
    "        \"\"\"This method is run when Python tries\n",
    "        to cast the object to string. Return\n",
    "        this string when using print(), etc.\"\"\"\n",
    "\n",
    "        return self.name\n",
    "    \n",
    "    def rename(self, rename):          # regular method\n",
    "        \"\"\"Reassign and print the name attribute.\"\"\"\n",
    "\n",
    "        self.name = rename\n",
    "        print(f\"Now my name is {self.name}\")"
   ]
  },
  {
   "cell_type": "code",
   "execution_count": 3,
   "metadata": {},
   "outputs": [
    {
     "name": "stdout",
     "output_type": "stream",
     "text": [
      "John\n"
     ]
    }
   ],
   "source": [
    "person = Person(\"John\")\n",
    "\n",
    "print(person.name)"
   ]
  },
  {
   "cell_type": "code",
   "execution_count": 5,
   "metadata": {},
   "outputs": [
    {
     "name": "stdout",
     "output_type": "stream",
     "text": [
      "Now my name is John Duo\n"
     ]
    }
   ],
   "source": [
    "person.rename(\"John Duo\")"
   ]
  },
  {
   "cell_type": "code",
   "execution_count": 6,
   "metadata": {},
   "outputs": [
    {
     "data": {
      "text/plain": [
       "'John Duo'"
      ]
     },
     "execution_count": 6,
     "metadata": {},
     "output_type": "execute_result"
    }
   ],
   "source": [
    "person.__str__()"
   ]
  },
  {
   "cell_type": "code",
   "execution_count": null,
   "metadata": {},
   "outputs": [],
   "source": [
    "# Encapsulation\n",
    "# Abstraction\n",
    "# Inheritance\n",
    "# Polymorphism"
   ]
  },
  {
   "cell_type": "code",
   "execution_count": 11,
   "metadata": {},
   "outputs": [
    {
     "name": "stdout",
     "output_type": "stream",
     "text": [
      "Brand: Apple\n",
      "Price: 10000\n",
      "This is a Apple brand\n",
      "New Apple\n",
      "Yes\n",
      "This is a Static Method\n"
     ]
    }
   ],
   "source": [
    "class Mobile:\n",
    "    fp = \"Yes\"\n",
    "\n",
    "    def __init__(self, brand):\n",
    "        self.brand = brand\n",
    "\n",
    "    def show_detail(self, price):\n",
    "        print(f\"Brand: {self.brand}\")\n",
    "        print(f\"Price: {price}\")\n",
    "\n",
    "    @classmethod\n",
    "    def is_fp(cls):\n",
    "        print(cls.fp)\n",
    "\n",
    "    @staticmethod\n",
    "    def is_done():\n",
    "        print(\"This is a Static Method\")\n",
    "\n",
    "apple = Mobile(\"Apple\")\n",
    "apple.show_detail(10000)\n",
    "\n",
    "brand = apple.brand\n",
    "print(F\"This is a {brand} brand\")\n",
    "\n",
    "apple.brand = \"New Apple\"\n",
    "print(apple.brand)\n",
    "\n",
    "apple.is_fp()\n",
    "apple.is_done()"
   ]
  },
  {
   "cell_type": "code",
   "execution_count": 13,
   "metadata": {},
   "outputs": [
    {
     "name": "stdout",
     "output_type": "stream",
     "text": [
      "Student Name: John\n",
      "Student Roll: 101\n"
     ]
    }
   ],
   "source": [
    "class Student:\n",
    "    def __init__(self, name, roll):\n",
    "        self.name = name\n",
    "        self.roll = roll\n",
    "\n",
    "    def disp(self):\n",
    "        print(\"Student Name:\", self.name)\n",
    "        print(\"Student Roll:\", self.roll)\n",
    "\n",
    "class User:\n",
    "    @staticmethod\n",
    "    def show(s):\n",
    "        print(\"Student Name:\", s.name)\n",
    "        print(\"Student Roll:\", s.roll)\n",
    "\n",
    "student = Student(\"John\", 101)\n",
    "\n",
    "User.show(student)"
   ]
  },
  {
   "cell_type": "code",
   "execution_count": 16,
   "metadata": {},
   "outputs": [
    {
     "name": "stdout",
     "output_type": "stream",
     "text": [
      "John\n",
      "AK47 75 Rounds 34.3\n"
     ]
    }
   ],
   "source": [
    "class Army:\n",
    "    def __init__(self):\n",
    "        self.name = 'John'\n",
    "        self.gun = self.Gun()\n",
    "\n",
    "    def show(self):\n",
    "        print(self.name)\n",
    "\n",
    "    class Gun:\n",
    "        def __init__(self):\n",
    "            self.name = \"AK47\"\n",
    "            self.capacity = \"75 Rounds\"\n",
    "            self.length = \"34.3\"\n",
    "\n",
    "        def disp(self):\n",
    "            print(self.name, self.capacity, self.length)\n",
    "\n",
    "\n",
    "a = Army()\n",
    "a.show()\n",
    "a.gun.disp()\n"
   ]
  },
  {
   "cell_type": "code",
   "execution_count": 18,
   "metadata": {},
   "outputs": [
    {
     "name": "stdout",
     "output_type": "stream",
     "text": [
      "Child Class Instance Method\n",
      "Parent Class Instance Method\n"
     ]
    }
   ],
   "source": [
    "class Father:\n",
    "    money = 10000\n",
    "\n",
    "    def show(self):\n",
    "        print(\"Parent Class Instance Method\")\n",
    "\n",
    "    @classmethod\n",
    "    def show_money():\n",
    "        print(\"Parent Class Class Method\")\n",
    "\n",
    "class Son(Father):\n",
    "    def disp(self):\n",
    "        print(\"Child Class Instance Method\")\n",
    "\n",
    "s = Son()\n",
    "s.disp()\n",
    "s.show()"
   ]
  },
  {
   "cell_type": "code",
   "execution_count": 20,
   "metadata": {},
   "outputs": [
    {
     "name": "stdout",
     "output_type": "stream",
     "text": [
      "Father Class Constructor\n",
      "Son Class Constructor\n",
      "Child Class Instance Method\n",
      "Parent Class Instance Method\n"
     ]
    }
   ],
   "source": [
    "class Father:\n",
    "    money = 10000\n",
    "\n",
    "    def __init__(self):\n",
    "        self.data = \"This is Data\"\n",
    "        print(\"Father Class Constructor\")\n",
    "\n",
    "    def show(self):\n",
    "        print(\"Parent Class Instance Method\")\n",
    "\n",
    "    @classmethod\n",
    "    def show_money():\n",
    "        print(\"Parent Class Class Method\")\n",
    "\n",
    "class Son(Father):\n",
    "    def __init__(self):\n",
    "        self.data = \"This is Data Son\"\n",
    "        self.car = \"BMW\"\n",
    "        print(\"Son Class Constructor\")\n",
    "\n",
    "    def disp(self):\n",
    "        print(\"Child Class Instance Method\")\n",
    "\n",
    "\n",
    "f = Father()\n",
    "s = Son()\n",
    "s.disp()\n",
    "s.show()"
   ]
  },
  {
   "cell_type": "code",
   "execution_count": 23,
   "metadata": {},
   "outputs": [
    {
     "name": "stdout",
     "output_type": "stream",
     "text": [
      "Father Class Constructor\n",
      "Son Class Constructor\n",
      "Child Class Instance Method 1000\n"
     ]
    }
   ],
   "source": [
    "class Father:\n",
    "    def __init__(self, money):\n",
    "        self.money = money\n",
    "        print(\"Father Class Constructor\")\n",
    "\n",
    "    def show(self):\n",
    "        print(\"Parent Class Instance Method\")\n",
    "\n",
    "class Son(Father):\n",
    "    def __init__(self, money):\n",
    "        super().__init__(money)\n",
    "        print(\"Son Class Constructor\")\n",
    "\n",
    "    def disp(self):\n",
    "        print(\"Child Class Instance Method\", self.money)\n",
    "\n",
    "s = Son(1000)\n",
    "s.disp()"
   ]
  }
 ],
 "metadata": {
  "kernelspec": {
   "display_name": "Python 3 (ipykernel)",
   "language": "python",
   "name": "python3"
  },
  "language_info": {
   "codemirror_mode": {
    "name": "ipython",
    "version": 3
   },
   "file_extension": ".py",
   "mimetype": "text/x-python",
   "name": "python",
   "nbconvert_exporter": "python",
   "pygments_lexer": "ipython3",
   "version": "3.10.6"
  }
 },
 "nbformat": 4,
 "nbformat_minor": 4
}
