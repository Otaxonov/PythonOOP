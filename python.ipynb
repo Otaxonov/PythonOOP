{
 "cells": [
  {
   "attachments": {},
   "cell_type": "markdown",
   "metadata": {},
   "source": [
    "# <center>Python OOP Tutorials</center>\n",
    "\n",
    "#### Introduction to classes <hr>\n",
    "\n",
    "<p>A class, functions as a template that deﬁnes the basic characteristics of a particular object.</p>"
   ]
  },
  {
   "cell_type": "code",
   "execution_count": 1,
   "metadata": {},
   "outputs": [],
   "source": [
    "class Person(object):\n",
    "    \"\"\"A simple class.\"\"\"               # docstring\n",
    "    species = \"Homo Sapiens\"            # class attribute\n",
    "\n",
    "    def __init__(self, name):           # special method\n",
    "        \"\"\"This is the initializer.\n",
    "        It's a special method.\"\"\"\n",
    "\n",
    "        self.name = name                # instance attribute\n",
    "\n",
    "    def __str__(self) -> str:           # special method\n",
    "        \"\"\"This method is run when Python tries\n",
    "        to cast the object to string. Return\n",
    "        this string when using print(), etc.\"\"\"\n",
    "\n",
    "        return self.name\n",
    "    \n",
    "    def rename(self, rename):          # regular method\n",
    "        \"\"\"Reassign and print the name attribute.\"\"\"\n",
    "\n",
    "        self.name = rename\n",
    "        print(f\"Now my name is {self.name}\")"
   ]
  },
  {
   "cell_type": "code",
   "execution_count": 3,
   "metadata": {},
   "outputs": [
    {
     "name": "stdout",
     "output_type": "stream",
     "text": [
      "John\n"
     ]
    }
   ],
   "source": [
    "person = Person(\"John\")\n",
    "\n",
    "print(person.name)"
   ]
  },
  {
   "cell_type": "code",
   "execution_count": 5,
   "metadata": {},
   "outputs": [
    {
     "name": "stdout",
     "output_type": "stream",
     "text": [
      "Now my name is John Duo\n"
     ]
    }
   ],
   "source": [
    "person.rename(\"John Duo\")"
   ]
  },
  {
   "cell_type": "code",
   "execution_count": 6,
   "metadata": {},
   "outputs": [
    {
     "data": {
      "text/plain": [
       "'John Duo'"
      ]
     },
     "execution_count": 6,
     "metadata": {},
     "output_type": "execute_result"
    }
   ],
   "source": [
    "person.__str__()"
   ]
  }
 ],
 "metadata": {
  "kernelspec": {
   "display_name": "Python 3 (ipykernel)",
   "language": "python",
   "name": "python3"
  },
  "language_info": {
   "codemirror_mode": {
    "name": "ipython",
    "version": 3
   },
   "file_extension": ".py",
   "mimetype": "text/x-python",
   "name": "python",
   "nbconvert_exporter": "python",
   "pygments_lexer": "ipython3",
   "version": "3.10.6"
  }
 },
 "nbformat": 4,
 "nbformat_minor": 4
}
